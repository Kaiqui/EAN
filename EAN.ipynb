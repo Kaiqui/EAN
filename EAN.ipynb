{
 "cells": [
  {
   "cell_type": "code",
   "execution_count": 10,
   "id": "35995cfe-b85d-49aa-9613-9ebfb309f66c",
   "metadata": {},
   "outputs": [],
   "source": [
    "from selenium import webdriver\n",
    "from selenium.webdriver.chrome.options import Options\n",
    "from selenium.webdriver.common.keys import Keys\n",
    "import pandas as pd\n",
    "import warnings\n",
    "import time"
   ]
  },
  {
   "cell_type": "code",
   "execution_count": 19,
   "id": "123d1c48-f914-4a1a-88ec-18db030edf45",
   "metadata": {},
   "outputs": [],
   "source": [
    "def validacao_eans(arquivo, nome_coluna):\n",
    "    inicio = time.time()\n",
    "    warnings.filterwarnings('ignore')\n",
    "    \n",
    "    # produtos_concorrentes\n",
    "    df = pd.read_excel(arquivo)\n",
    "    \n",
    "    # eans de produtos_concorrentes\n",
    "    eans = df[nome_coluna].tolist()\n",
    "    \n",
    "    ean_valido = []\n",
    "    ean_invalido = []\n",
    "    # realiza a consulta para cada ean\n",
    "    for ean in eans:\n",
    "        chrome_options = Options()\n",
    "        chrome_options.add_argument('--headless')\n",
    "        browser = webdriver.Chrome('chromedriver.exe', options=chrome_options)\n",
    "        browser.get('http://www.google.com')\n",
    "        search = browser.find_element_by_name('q')\n",
    "        search.send_keys(ean)\n",
    "        search.send_keys(Keys.RETURN)\n",
    "        xpath = browser.find_element_by_xpath('//*[@id=\"rso\"]/div/div/div/div/div[1]').text\n",
    "        if xpath == 'Sua pesquisa não encontrou nenhum documento correspondente':\n",
    "            ean_invalido.append(i)\n",
    "            browser.close()\n",
    "        else:\n",
    "            ean_valido.append(i)\n",
    "            browser.close()\n",
    "    \n",
    "    ean_y = pd.DataFrame (ean_valido, columns = [nome_coluna])\n",
    "    ean_n = pd.DataFrame (ean_invalido, columns = [nome_coluna])\n",
    "    \n",
    "    \n",
    "    ean_y = pd.merge(df, ean_y, how='inner', on=nome_coluna)\n",
    "    ean_n = pd.merge(df, ean_n, how='inner', on=nome_coluna)\n",
    "    \n",
    "    ean_y.to_csv('ean_validos.csv', index=False)\n",
    "    ean_n.to_csv('ean_invalidos.csv', index=False)\n",
    "    fim = time.time()\n",
    "    print(fim - inicio)"
   ]
  },
  {
   "cell_type": "code",
   "execution_count": 18,
   "id": "20304a15-52fe-459e-b883-d2837a26f8fb",
   "metadata": {},
   "outputs": [
    {
     "name": "stdout",
     "output_type": "stream",
     "text": [
      "41.76518964767456\n"
     ]
    }
   ],
   "source": [
    "validacao_eans()"
   ]
  },
  {
   "cell_type": "code",
   "execution_count": null,
   "id": "25ef442f-4347-4220-b948-714b8412a18d",
   "metadata": {},
   "outputs": [],
   "source": []
  },
  {
   "cell_type": "code",
   "execution_count": null,
   "id": "7aabfa1b-58e0-43d0-8c17-7d3bdc8e649a",
   "metadata": {},
   "outputs": [],
   "source": []
  },
  {
   "cell_type": "code",
   "execution_count": null,
   "id": "a811966b-e2fa-4344-b117-b30967913ccf",
   "metadata": {},
   "outputs": [],
   "source": []
  },
  {
   "cell_type": "code",
   "execution_count": null,
   "id": "5be4748c-f913-44a1-8e92-12be39ede2b9",
   "metadata": {},
   "outputs": [],
   "source": []
  },
  {
   "cell_type": "code",
   "execution_count": null,
   "id": "ffa2b835-3574-454e-a636-daa02a1f052f",
   "metadata": {},
   "outputs": [],
   "source": []
  },
  {
   "cell_type": "code",
   "execution_count": null,
   "id": "91fc4492-007d-4751-9f97-72fec18df13a",
   "metadata": {},
   "outputs": [],
   "source": []
  },
  {
   "cell_type": "code",
   "execution_count": null,
   "id": "6bb810a1-4f4b-4df5-8b4c-e5d2d942e4c3",
   "metadata": {},
   "outputs": [],
   "source": []
  }
 ],
 "metadata": {
  "kernelspec": {
   "display_name": "Python 3 (ipykernel)",
   "language": "python",
   "name": "python3"
  },
  "language_info": {
   "codemirror_mode": {
    "name": "ipython",
    "version": 3
   },
   "file_extension": ".py",
   "mimetype": "text/x-python",
   "name": "python",
   "nbconvert_exporter": "python",
   "pygments_lexer": "ipython3",
   "version": "3.8.12"
  }
 },
 "nbformat": 4,
 "nbformat_minor": 5
}
